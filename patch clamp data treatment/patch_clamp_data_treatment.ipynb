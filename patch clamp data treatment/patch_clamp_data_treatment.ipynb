{
  "metadata": {
    "kernelspec": {
      "language": "python",
      "display_name": "Python 3",
      "name": "python3"
    },
    "language_info": {
      "name": "python",
      "version": "3.10.10",
      "mimetype": "text/x-python",
      "codemirror_mode": {
        "name": "ipython",
        "version": 3
      },
      "pygments_lexer": "ipython3",
      "nbconvert_exporter": "python",
      "file_extension": ".py"
    },
    "colab": {
      "provenance": []
    }
  },
  "nbformat_minor": 0,
  "nbformat": 4,
  "cells": [
    {
      "cell_type": "code",
      "source": [
        "import numpy as np # линейная алгебра\n",
        "import pandas as pd # для работы с данными\n",
        "import seaborn as sns # для визуализации\n",
        "import matplotlib.pyplot as plt # тоже для визуализации\n",
        "plt.rcParams.update({'figure.max_open_warning': 0}) # убираем ошибку о визуализации слишком большого числа графиков\n",
        "import os\n",
        "import plotly.express as ex\n",
        "from skimage import restoration # для вычитания базовой линии"
      ],
      "metadata": {
        "_uuid": "8f2839f25d086af736a60e9eeb907d3b93b6e0e5",
        "_cell_guid": "b1076dfc-b9ad-4769-8c92-a6c4dae69d19",
        "execution": {
          "iopub.status.busy": "2023-06-20T05:54:34.224266Z",
          "iopub.execute_input": "2023-06-20T05:54:34.224841Z",
          "iopub.status.idle": "2023-06-20T05:54:34.233807Z",
          "shell.execute_reply.started": "2023-06-20T05:54:34.224800Z",
          "shell.execute_reply": "2023-06-20T05:54:34.232375Z"
        },
        "trusted": true,
        "id": "ENFbuzNcC-OF"
      },
      "execution_count": 1,
      "outputs": []
    },
    {
      "cell_type": "markdown",
      "source": [
        "<h3> Функция нелинейного фильтра"
      ],
      "metadata": {
        "id": "03BiIhrFC-OL"
      }
    },
    {
      "cell_type": "code",
      "source": [
        "def non_lin_filter(data, mm = 4, p = 1, windows = [2,4,8,16,32,64]):\n",
        "    pi = 1/(2*len(windows))\n",
        "    max_window = max(windows)\n",
        "    backward = []\n",
        "    forward = []\n",
        "    b = []\n",
        "    f = []\n",
        "    bf = [0]*len(data)\n",
        "    result = [0]*len(data)\n",
        "    ind = data.index\n",
        "    data = data.values\n",
        "\n",
        "    for i in windows:\n",
        "        temp_back = [0]*len(data)\n",
        "        temp_forward = [0]*len(data)\n",
        "        for t in range(max_window,len(data)-max_window):\n",
        "            temp_value_b = 0\n",
        "            temp_value_f = 0\n",
        "            for step in range(i):\n",
        "                temp_value_f+=data[t-step-1]\n",
        "                temp_value_b+=data[t+step+1]\n",
        "            temp_back[t] = temp_value_b/i\n",
        "            temp_forward[t] = temp_value_f/i\n",
        "        backward.append(temp_back)\n",
        "        forward.append(temp_forward)\n",
        "\n",
        "\n",
        "    for i in range(len(windows)):\n",
        "        fi = [0]*len(data)\n",
        "        bi = [0]*len(data)\n",
        "        for t in range(max_window,len(data)-max_window):\n",
        "            temp_fi = 0\n",
        "            temp_bi = 0\n",
        "            for j in range(mm):\n",
        "                temp_fi+=(data[t-j] - forward[i][t-j])**2\n",
        "                temp_bi+=(data[t+j] - backward[i][t+j])**2\n",
        "            fi[t] = pi*temp_fi**(-p)\n",
        "            bi[t] = pi*temp_bi**(-p)\n",
        "        f.append(fi)\n",
        "        b.append(bi)\n",
        "\n",
        "    for t in range(max_window,len(data)-max_window):\n",
        "        for i in range(len(windows)):\n",
        "            bf[t] += f[i][t]+b[i][t]\n",
        "        for i in range(len(windows)):\n",
        "            f[i][t] = f[i][t]/bf[t]\n",
        "            b[i][t] = b[i][t]/bf[t]\n",
        "            result[t] += f[i][t]*forward[i][t]+b[i][t]*backward[i][t]\n",
        "    return pd.Series(result, index = ind)"
      ],
      "metadata": {
        "jupyter": {
          "source_hidden": true
        },
        "execution": {
          "iopub.status.busy": "2023-06-20T05:54:34.306549Z",
          "iopub.execute_input": "2023-06-20T05:54:34.307881Z",
          "iopub.status.idle": "2023-06-20T05:54:34.327384Z",
          "shell.execute_reply.started": "2023-06-20T05:54:34.307833Z",
          "shell.execute_reply": "2023-06-20T05:54:34.325651Z"
        },
        "trusted": true,
        "id": "oCx2mhecC-OL"
      },
      "execution_count": null,
      "outputs": []
    },
    {
      "cell_type": "markdown",
      "source": [
        "<h3>Функция вычета базовой линии"
      ],
      "metadata": {
        "id": "q-AVqnbKC-ON"
      }
    },
    {
      "cell_type": "code",
      "source": [
        "def remove_baseline(data, radius = 15000):\n",
        "    # Применяем алгоритм катящегося шара\n",
        "    return data-restoration.rolling_ball(data, radius = radius)"
      ],
      "metadata": {
        "jupyter": {
          "source_hidden": true
        },
        "execution": {
          "iopub.status.busy": "2023-06-20T05:54:34.352547Z",
          "iopub.execute_input": "2023-06-20T05:54:34.353303Z",
          "iopub.status.idle": "2023-06-20T05:54:34.358409Z",
          "shell.execute_reply.started": "2023-06-20T05:54:34.353250Z",
          "shell.execute_reply": "2023-06-20T05:54:34.357486Z"
        },
        "trusted": true,
        "id": "cLChleanC-ON"
      },
      "execution_count": null,
      "outputs": []
    },
    {
      "cell_type": "markdown",
      "source": [
        "<h3>Решаем в какой последовательности применять фильтр и вычет базовой линии"
      ],
      "metadata": {
        "id": "jDNFgIptC-OO"
      }
    },
    {
      "cell_type": "code",
      "source": [
        "# fb_signal = signal.copy()\n",
        "# fb_signal['filter-baseline'] = non_lin_filter(fb_signal['pA'])\n",
        "# fb_signal = fb_signal[64:-64]\n",
        "# fb_signal['filter-baseline'] = remove_baseline(fb_signal['filter-baseline'])\n",
        "# fb_signal = fb_signal.drop(columns = ['pA'])\n",
        "\n",
        "# bf_signal = signal.copy()\n",
        "# bf_signal['baseline-filter'] = remove_baseline(bf_signal['pA'])\n",
        "# bf_signal['baseline-filter'] = non_lin_filter(bf_signal['baseline-filter'])\n",
        "# bf_signal = bf_signal[64:-64]\n",
        "# bf_signal = bf_signal.drop(columns = ['pA'])\n",
        "\n",
        "# fbf_signal = signal.copy()\n",
        "# fbf_signal['filter-baseline-filter'] = non_lin_filter(fbf_signal['pA'])\n",
        "# fbf_signal = fbf_signal[64:-64]\n",
        "# fbf_signal['filter-baseline-filter'] = remove_baseline(fbf_signal['filter-baseline-filter'])\n",
        "# fbf_signal['filter-baseline-filter'] = non_lin_filter(fbf_signal['filter-baseline-filter'])\n",
        "# fbf_signal = fbf_signal[64:-64]\n",
        "# fbf_signal = fbf_signal.drop(columns = ['pA'])\n",
        "\n",
        "# plot_df = pd.DataFrame(fb_signal)\n",
        "# plot_df = plot_df.merge(bf_signal, on = 't', how = 'left')\n",
        "# plot_df = plot_df.merge(fbf_signal, on = 't', how = 'left')\n",
        "\n",
        "# plt.figure(figsize = (15,8))\n",
        "# ax = plt.gca()\n",
        "# ax.set_facecolor('black')\n",
        "# sns.lineplot(data = pd.melt(plot_df.iloc[:5000],'t'),x = 't', y = 'value', hue = 'variable')\n",
        "# plt.grid(False)\n",
        "# legend = plt.legend(title = 'Treatment combination', labelcolor = 'white', frameon = False)\n",
        "# plt.setp(legend.get_title(), color = 'white');"
      ],
      "metadata": {
        "_kg_hide-input": false,
        "jupyter": {
          "source_hidden": true
        },
        "execution": {
          "iopub.status.busy": "2023-06-20T05:54:34.448618Z",
          "iopub.execute_input": "2023-06-20T05:54:34.449176Z",
          "iopub.status.idle": "2023-06-20T05:54:34.455811Z",
          "shell.execute_reply.started": "2023-06-20T05:54:34.449134Z",
          "shell.execute_reply": "2023-06-20T05:54:34.454373Z"
        },
        "trusted": true,
        "id": "18oMDO63C-OO"
      },
      "execution_count": null,
      "outputs": []
    },
    {
      "cell_type": "markdown",
      "source": [
        "<h5> Лучший результат дало применение фильтра, вычитание базовой линии, а затем повторное применение фильтра"
      ],
      "metadata": {
        "id": "huDBX7eCC-OP"
      }
    },
    {
      "cell_type": "markdown",
      "source": [
        "<h3>Функция фильтрации и обрезки сигнала"
      ],
      "metadata": {
        "id": "wh0pyxfHC-OP"
      }
    },
    {
      "cell_type": "code",
      "source": [
        "def filter_and_crop (signal):\n",
        "    filtered_signal = signal.copy()\n",
        "    # Последовательно применяем нелинейный фильтр и вычет базовой линии\n",
        "    filtered_signal['pA'] = non_lin_filter(filtered_signal['pA'])\n",
        "    filtered_signal = filtered_signal[64:-64]\n",
        "    filtered_signal['pA'] = remove_baseline(filtered_signal['pA'])\n",
        "    # Визуализируем отфтльтрованный сигнал\n",
        "    plt.figure(figsize = (15,7))\n",
        "    plot = sns.lineplot(x = filtered_signal['t'], y = filtered_signal['pA'])\n",
        "    plot.set_title('Filtered signal')\n",
        "    plt.show()\n",
        "\n",
        "    # Даем пользователю возможность обрезки сигнала\n",
        "    while True:\n",
        "        user_input = input('Input start and end time (x10000): ')\n",
        "        if user_input == '':\n",
        "            return '0'\n",
        "        elif user_input == 'stop':\n",
        "            return 'stop'\n",
        "        else:\n",
        "            start_time, end_time = [int(x) for x in user_input.split()]\n",
        "        cropped_signal = filtered_signal.iloc[start_time:end_time+1]\n",
        "        # Визуализируем обрезанный сигнал\n",
        "        plt.figure(figsize = (15,5))\n",
        "        plot = sns.lineplot(x = cropped_signal['t'], y = cropped_signal['pA'])\n",
        "        plot.set_title('Cropped signal')\n",
        "        plt.show()\n",
        "        # Удостоверяемся в том, что пользователь доволен выбранной обрезкой\n",
        "        satisfied = input('Are you satisfied with a result (y/n)')\n",
        "        if satisfied == 'y':\n",
        "            break\n",
        "    return cropped_signal"
      ],
      "metadata": {
        "jupyter": {
          "source_hidden": true
        },
        "execution": {
          "iopub.status.busy": "2023-06-20T05:54:34.571545Z",
          "iopub.execute_input": "2023-06-20T05:54:34.572881Z",
          "iopub.status.idle": "2023-06-20T05:54:34.584363Z",
          "shell.execute_reply.started": "2023-06-20T05:54:34.572831Z",
          "shell.execute_reply": "2023-06-20T05:54:34.583049Z"
        },
        "trusted": true,
        "id": "Bvatyy9iC-OQ"
      },
      "execution_count": null,
      "outputs": []
    },
    {
      "cell_type": "markdown",
      "source": [
        "<h3>Функция поиска пиков и их характеризации"
      ],
      "metadata": {
        "id": "bhTPgpx3C-OQ"
      }
    },
    {
      "cell_type": "code",
      "source": [
        "def find_peaks(signal):\n",
        "    thr = float(input('Input threshold value:'))\n",
        "    signal.reset_index(drop=True, inplace = True)\n",
        "    # Создаем пустой список, в который будут вносится данные о найденных пиках\n",
        "    peaks = []\n",
        "    # Проходим по всем временным точкам сигнала через одну (нужно чтобы пик не регистрировался дважды)\n",
        "    # Вносим временные точки вокруг которых происходит переход порогового значения в массив\n",
        "    # с индексом \"1\", если сигнал поднялся выше порогового, и \"-1\" - если опустился ниже\n",
        "    for i in range(1, len(signal)-1,2):\n",
        "        if signal['pA'][i-1] < thr and signal['pA'][i+1] > thr:\n",
        "            peaks.append([signal['t'][i],1])\n",
        "        elif signal['pA'][i-1] > thr and signal['pA'][i+1] < thr:\n",
        "            peaks.append([signal['t'][i],-1])\n",
        "\n",
        "    # Переводим список в таблицу для удобства работы с ним, называем столбцы соответсвующе\n",
        "    peaks = pd.DataFrame(peaks, columns = ['time','up/down'])\n",
        "    peaks = peaks[['time', 'up/down']]\n",
        "\n",
        "    result = pd.DataFrame(columns = ['peak time up', 'peak time down', 'time open',\n",
        "                                 'time since last opening', 'current inside', 'current outside', 'amplitude'])\n",
        "\n",
        "    for i in range(peaks.shape[0]-1): # Идем по списку найденных пиков кроме последнего (если он является пиком вверх, то мы все равно его не считаем)\n",
        "        if peaks.iloc[i]['up/down'] == 1: # Смотрим только на пики вверх\n",
        "\n",
        "            time_up = peaks.iloc[i]['time'] # Находим время открытия и закрытия канала\n",
        "            time_down = peaks.iloc[i+1]['time']\n",
        "\n",
        "            # Находим медианное значение тока между временем открытия и закрытия канала\n",
        "            current_inside = signal[(signal['t']>=time_up)&(signal['t']<time_down)]['pA'].median()\n",
        "\n",
        "            # Если пик не первый, то находим время прошлого пика вниз\n",
        "            last_time_down = 0 if i == 0 else peaks.iloc[i-1]['time']\n",
        "            # Если пик не последний вверх, то ищем время следущего пика вверх\n",
        "            next_time_up = signal['t'].max() if i > peaks.shape[0]-3 else peaks.iloc[i+2]['time']\n",
        "            # Медианный ток снаружи ищется как среднее знаение тока между прошлым пиком вниз и рассматриваемым пиком вверх (ток слева от открытого канала)\n",
        "            current_outside = signal[((signal['t']>=last_time_down)&(signal['t']<time_up))]['pA'].median()\n",
        "\n",
        "            # Создаем словарь, в который вносится интересующая нас информация\n",
        "            temp = {'peak time up':time_up,\n",
        "                    'peak time down':time_down,\n",
        "                    'time open':time_down-time_up,\n",
        "                    'time since last opening':time_up-last_time_down,\n",
        "                    'current inside':current_inside,\n",
        "                    'current outside':current_outside,\n",
        "                    'amplitude': current_inside-current_outside\n",
        "                   }\n",
        "            # Новая строка с данными вносится в результирующую таблицу\n",
        "            result = pd.concat([result,pd.DataFrame.from_records(temp, index = [0])])\n",
        "\n",
        "    # Приводим таблицу в порядок переназначая индексные значения и удаляя временный индекс\n",
        "    result = result.reset_index().drop(columns = ['index'])\n",
        "    print('\\n'+str(result.shape[0]) + ' peaks found.')\n",
        "    return result"
      ],
      "metadata": {
        "jupyter": {
          "source_hidden": true
        },
        "execution": {
          "iopub.status.busy": "2023-06-20T05:54:34.618359Z",
          "iopub.execute_input": "2023-06-20T05:54:34.619385Z",
          "iopub.status.idle": "2023-06-20T05:54:34.637526Z",
          "shell.execute_reply.started": "2023-06-20T05:54:34.619339Z",
          "shell.execute_reply": "2023-06-20T05:54:34.636085Z"
        },
        "trusted": true,
        "id": "Ea96ulaaC-OR"
      },
      "execution_count": null,
      "outputs": []
    },
    {
      "cell_type": "markdown",
      "source": [
        "<h3> Функция моделирования сигнала"
      ],
      "metadata": {
        "id": "k1XbAa5aC-OS"
      }
    },
    {
      "cell_type": "code",
      "source": [
        "def model_signal(signal, peaks_analysis_table):\n",
        "    modeled_signal = signal.copy()\n",
        "    modeled_signal['pA'] = 0\n",
        "\n",
        "    # Проходимся по всем пикам\n",
        "    for i in range(peaks_analysis_table.shape[0]):\n",
        "        # В моделируемом сигнале выбираем времена соответствующие времени нахождения канала в открытом состоянии\n",
        "        # и придаем значение равное среднему уровню тока в этом канале\n",
        "        modeled_signal.loc[(modeled_signal['t'] >= peaks_analysis_table.iloc[i]['peak time up'])&\n",
        "                      (modeled_signal['t'] <= peaks_analysis_table.iloc[i]['peak time down']),'pA'] = peaks_analysis_table.iloc[i]['current inside']\n",
        "        # Далее выбираем времена от конца прошлого канала до начала этого и заменяем значения их тока на средний ток снаружи канала\n",
        "        # для первого канала время берем от нуля\n",
        "        if i == 0:\n",
        "            modeled_signal.loc[(modeled_signal['t'] >= 0)&\n",
        "                               (modeled_signal['t'] < peaks_analysis_table.iloc[i]['peak time up']),\n",
        "                               'pA'] = peaks_analysis_table.iloc[i]['current outside']\n",
        "        else:\n",
        "            modeled_signal.loc[(modeled_signal['t'] > peaks_analysis_table.iloc[i-1]['peak time down'])&\n",
        "                               (modeled_signal['t'] < peaks_analysis_table.iloc[i]['peak time up']),\n",
        "                               'pA'] = peaks_analysis_table.iloc[i]['current outside']\n",
        "\n",
        "    last_current_outside = signal[signal['t']>peaks_analysis_table['peak time down'].iloc[-1]]['pA'].median()\n",
        "    modeled_signal.loc[modeled_signal['t']>peaks_analysis_table['peak time down'].iloc[-1],['pA']] = last_current_outside\n",
        "\n",
        "    # Строим смоделированный сигнал вместе с оригинальным\n",
        "\n",
        "    # Задаем размер холста\n",
        "    plt.figure(figsize = (15,8))\n",
        "    # Строим оригинальный сигнал\n",
        "    sns.lineplot(x = signal['t'],y = signal['pA'], alpha = 0.3, label = 'original signal')\n",
        "    # Строим смоделированный сигнал\n",
        "    sns.lineplot(x = modeled_signal['t'],y = modeled_signal['pA'], label = 'modeled signal', color = 'red')\n",
        "    # Включаем легенду\n",
        "    plt.legend()\n",
        "    # Задаем название графика\n",
        "    plt.title('Comparison between original and modelled signals')\n",
        "    plt.show()\n",
        "    return modeled_signal"
      ],
      "metadata": {
        "jupyter": {
          "source_hidden": true
        },
        "execution": {
          "iopub.status.busy": "2023-06-20T05:54:34.660903Z",
          "iopub.execute_input": "2023-06-20T05:54:34.661405Z",
          "iopub.status.idle": "2023-06-20T05:54:34.676928Z",
          "shell.execute_reply.started": "2023-06-20T05:54:34.661372Z",
          "shell.execute_reply": "2023-06-20T05:54:34.675632Z"
        },
        "trusted": true,
        "id": "gTwizPqCC-OS"
      },
      "execution_count": null,
      "outputs": []
    },
    {
      "cell_type": "code",
      "source": [
        "# Задаем директорию из которой берем сигналы и номер порции сигналов\n",
        "directory  = './patchclamp-data/16_09'\n",
        "patch_batch = '01_3'\n",
        "\n",
        "# Создаем список миен файлов нужных нам сигналов и сортируем его по возрастанию\n",
        "signals = os.listdir(directory)\n",
        "signals = [signal for signal in signals if patch_batch in signal]\n",
        "signals.sort()\n",
        "tenth_signal = signals.pop(1)\n",
        "signals.append(tenth_signal)\n",
        "\n",
        "# Для каждого сигнала проводим обработку\n",
        "for i in signals:\n",
        "    # Производим чтение файла с сигналом\n",
        "    signal = pd.read_csv(directory+'/'+i, header = None, sep = ' ',names = ['t', 'pA'])\n",
        "    # Делаем так, чтобы отсчет времени велся с 0 (из-за особенностей данных это не всегда изначально так)\n",
        "    signal['t'] = np.arange(0,2.9401, 0.0001)\n",
        "    # Фильтруем сигнал и вычитаем его базовую линию, после чего обрезаем его\n",
        "    filtered_signal = filter_and_crop(signal)\n",
        "    if type(filtered_signal) == pd.DataFrame:\n",
        "        # Повторяем поиск пиков и моделирование сигнала пока не будет выбрано подходящее пороговое значение\n",
        "        while True:\n",
        "            # Находим пики в сигнале и вносим в таблицу результатов информацию о них\n",
        "            results = find_peaks(filtered_signal)\n",
        "            # На основании таблицы с результатами воссоздаем исходный сигнал\n",
        "            modeled_signal = model_signal(filtered_signal, results)\n",
        "            satisfied = input('Are you satisfied with chosen threshold value (y/n)')\n",
        "            if satisfied == 'y':\n",
        "                break\n",
        "          # Сохраняем результат\n",
        "        savename = '/saved_data/'+i[:-4]+'_results.txt'\n",
        "        results.to_csv(savename)\n",
        "    else:\n",
        "        if filtered_signal == '0':\n",
        "            continue\n",
        "        elif filtered_signal == 'stop':\n",
        "            break"
      ],
      "metadata": {
        "execution": {
          "iopub.status.busy": "2023-06-20T05:54:34.710883Z",
          "iopub.execute_input": "2023-06-20T05:54:34.711621Z",
          "iopub.status.idle": "2023-06-20T05:54:54.977356Z",
          "shell.execute_reply.started": "2023-06-20T05:54:34.711583Z",
          "shell.execute_reply": "2023-06-20T05:54:54.974650Z"
        },
        "trusted": true,
        "id": "1HR8BH_nC-OT"
      },
      "execution_count": null,
      "outputs": []
    },
    {
      "cell_type": "markdown",
      "source": [
        "<h3>Для обработки отдельного сигнала"
      ],
      "metadata": {
        "id": "wo7xy2zYC-OV"
      }
    },
    {
      "cell_type": "code",
      "source": [
        "# # задаем директорию из которой берем сигнал\n",
        "# filepath  = ''\n",
        "\n",
        "\n",
        "# signal = pd.read_csv(filepath, header = None, sep = ' ',names = ['t', 'pA'])\n",
        "# #делаем так, чтобы отсчет времени велся с 0 (из-за особенностей данных это не всегда изначально так)\n",
        "# signal['t'] = np.arange(0,2.9401, 0.0001)\n",
        "# #фильтруем сигнал и вычитаем его базовую линию, после чего обрезаем его\n",
        "# filtered_signal = filter_and_crop(signal)\n",
        "# #повторяем поиск пиков и моделирование сигнала пока не будет выбрано подходящее пороговое значение\n",
        "# while True:\n",
        "#     #находим пики в сигнале и вносим в таблицу результатов информацию о них\n",
        "#     results = find_peaks(filtered_signal)\n",
        "#     #на основании таблицы с результатами воссоздаем исходный сигнал\n",
        "#     modeled_signal = model_signal(filtered_signal, results)\n",
        "#     satisfied = input('Are you satisfied with chosen threshold value (y/n)')\n",
        "#     if satisfied == 'y':\n",
        "#         break\n",
        "\n",
        "\n",
        "# savename = filepath[filepath.rfind('/')+1:-4]+'_result'+filepath[-4:]\n",
        "# results.to_csv(savename)"
      ],
      "metadata": {
        "jupyter": {
          "source_hidden": true
        },
        "execution": {
          "iopub.status.busy": "2023-06-20T05:54:54.978833Z",
          "iopub.status.idle": "2023-06-20T05:54:54.981878Z",
          "shell.execute_reply.started": "2023-06-20T05:54:54.981560Z",
          "shell.execute_reply": "2023-06-20T05:54:54.981597Z"
        },
        "trusted": true,
        "id": "iotY-AsuC-OW"
      },
      "execution_count": null,
      "outputs": []
    }
  ]
}
